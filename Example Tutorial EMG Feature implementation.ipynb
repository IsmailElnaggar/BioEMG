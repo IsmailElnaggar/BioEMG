{
 "cells": [
  {
   "cell_type": "markdown",
   "metadata": {},
   "source": [
    "### Example notebook of how you could apply the feature functions to university of california irvine data\n",
    "\n",
    "### Created by Ismail Elnaggar \n",
    "1. Email: imelna@utu.fi"
   ]
  },
  {
   "cell_type": "markdown",
   "metadata": {},
   "source": [
    "### Reference to paper where the feature equations are listed\n",
    "\n",
    "\n",
    "link for feature definitions starting on page 97 out of 108 pages:\n",
    "https://d-nb.info/1191267180/34\n",
    "\n",
    "refer to this link for the equations used to create mean and median freq:\n",
    "\n",
    "https://www.intechopen.com/books/computational-intelligence-in-electromyography-analysis-a-perspective-on-current-applications-and-future-challenges/the-usefulness-of-mean-and-median-frequencies-in-electromyography-analysis\n"
   ]
  },
  {
   "cell_type": "code",
   "execution_count": 2,
   "metadata": {},
   "outputs": [],
   "source": [
    "#standard imports\n",
    "import numpy as np\n",
    "import pandas as pd\n",
    "import matplotlib.pyplot as plt\n",
    "\n",
    "\n",
    "#scipy / signal processing imports\n",
    "from scipy import signal\n",
    "from scipy.stats import entropy,mode\n",
    "from scipy.interpolate import interp1d\n",
    "from scipy import fftpack\n",
    "import pywt\n",
    "\n",
    "#entropy\n",
    "from entropy import *\n",
    "\n",
    "#datetime\n",
    "from datetime import datetime\n",
    "\n",
    "#other\n",
    "from collections import defaultdict, Counter\n",
    "import glob\n",
    "import pprint as pp\n",
    "import sys\n",
    "import time"
   ]
  },
  {
   "cell_type": "markdown",
   "metadata": {},
   "source": [
    "### Scroll past the feature definitions for example of how functions were used\n",
    "\n",
    "### you can either import the feature functions from py files or just have them defined in the notebook somewhere."
   ]
  },
  {
   "cell_type": "code",
   "execution_count": 23,
   "metadata": {},
   "outputs": [],
   "source": [
    "## Imports of the feature functions\n",
    "from EMGFEATS import emgamplitude,emgfrequency"
   ]
  },
  {
   "cell_type": "markdown",
   "metadata": {},
   "source": [
    "### Feature Definitions\n",
    "1. Amplitude features\n",
    "2. Frequency features\n",
    "3. Entropy features\n",
    "4. Stationarity features\n",
    "5. Variablity features\n",
    "6. Linearity Features"
   ]
  },
  {
   "cell_type": "markdown",
   "metadata": {},
   "source": [
    "### Amplitude Features\n",
    "1. peak\n",
    "2. peak to peak mean value (p2pmv)\n",
    "3. root mean squared (rms)\n",
    "4. mean of the absolute values of the second differences (mavsd)\n",
    "5. mean of the absolute values of the first differences (mavfd)\n",
    "6. mean of the absolute values of the second differences of the normalized signal (mavsdn)\n",
    "7. mean of the absolute values of the first differences of the normalized signal (mavfdn)\n",
    "8. mean of local minima values  (mlocminv)\n",
    "9. mean of local maxima values  (mlocmaxv) \n",
    "10. mean of absolute values (mav)"
   ]
  },
  {
   "cell_type": "code",
   "execution_count": 24,
   "metadata": {},
   "outputs": [],
   "source": [
    "def peak(data): #from emad\n",
    "    peak=max(data)\n",
    "    return peak"
   ]
  },
  {
   "cell_type": "code",
   "execution_count": 25,
   "metadata": {},
   "outputs": [],
   "source": [
    "def p2pmv(data): #from emad\n",
    "    x=np.array(data)\n",
    "    mean_p2p=np.mean((max(x)-min(x)))\n",
    "    return mean_p2p"
   ]
  },
  {
   "cell_type": "code",
   "execution_count": 26,
   "metadata": {},
   "outputs": [],
   "source": [
    "def rms(data): #from emad\n",
    "    x=np.array(data)\n",
    "    y=x.astype(np.float)\n",
    "    return np.sqrt(np.mean(y**2))"
   ]
  },
  {
   "cell_type": "code",
   "execution_count": 27,
   "metadata": {},
   "outputs": [],
   "source": [
    "def mavfd(data):\n",
    "    x=pd.Series(data)\n",
    "    dif1=abs(x.diff(periods=1))\n",
    "    return np.sum(dif1)/len(x)"
   ]
  },
  {
   "cell_type": "code",
   "execution_count": 28,
   "metadata": {},
   "outputs": [],
   "source": [
    "def mavsd(data): \n",
    "    x=pd.Series(data)\n",
    "    dif2=abs(x.diff(periods=2))\n",
    "    return np.sum(dif2)/len(x)"
   ]
  },
  {
   "cell_type": "code",
   "execution_count": 29,
   "metadata": {},
   "outputs": [],
   "source": [
    "def mavfdn(data):\n",
    "    x=np.asarray(data)\n",
    "    normdata=(x-np.mean(x))/np.std(x)\n",
    "    fdn=mavfd(normdata)\n",
    "    return fdn"
   ]
  },
  {
   "cell_type": "code",
   "execution_count": 30,
   "metadata": {},
   "outputs": [],
   "source": [
    "def mavsdn(data): \n",
    "    x=np.asarray(data)\n",
    "    normdata=(x-np.mean(x))/np.std(x)\n",
    "    sdn=mavsd(normdata)\n",
    "    return sdn"
   ]
  },
  {
   "cell_type": "code",
   "execution_count": 31,
   "metadata": {},
   "outputs": [],
   "source": [
    "def mlocminv(data): #from emad edited by ismail\n",
    "    x=np.array(data)\n",
    "    x=x[signal.argrelextrema(x, np.less)[0]]\n",
    "    minlocx=sorted(x)[:10]\n",
    "    return np.mean(minlocx)\n",
    "    #return np.mean(x)"
   ]
  },
  {
   "cell_type": "code",
   "execution_count": 32,
   "metadata": {},
   "outputs": [],
   "source": [
    "def mlocmaxv(data): #from emad edited by ismail \n",
    "    x=np.array(data)\n",
    "    x=x[signal.argrelextrema(x, np.greater)[0]]\n",
    "    #return np.mean(x)\n",
    "    maxlocx=sorted(x, reverse =True)[:10]\n",
    "    return np.mean(maxlocx)"
   ]
  },
  {
   "cell_type": "code",
   "execution_count": 33,
   "metadata": {},
   "outputs": [],
   "source": [
    "def mav(data): #from emad edited by ismail\n",
    "    #x=np.array(data)\n",
    "    y=[abs(i) for i in data]\n",
    "    return np.mean(y)"
   ]
  },
  {
   "cell_type": "code",
   "execution_count": 34,
   "metadata": {},
   "outputs": [],
   "source": [
    "def norm(data): #from emad\n",
    "    x=np.array(data)\n",
    "    return (x-np.mean(x))/np.std(x)"
   ]
  },
  {
   "cell_type": "markdown",
   "metadata": {},
   "source": [
    "### Frequency Features\n",
    "1. Mean Frequency\n",
    "2. Median Frequency\n",
    "3. bandwidth frequency or 3db \n",
    "4. center frequency\n",
    "5. zero crossings\n",
    "6. mode freq (peak? freq)\n"
   ]
  },
  {
   "cell_type": "code",
   "execution_count": 35,
   "metadata": {},
   "outputs": [],
   "source": [
    "def get_fft_values(y_values, fs):\n",
    "    \"\"\"When the input a is a time-domain signal and A = fft(a),\n",
    "    np.abs(A) is its amplitude spectrum and\n",
    "    np.abs(A)**2 is its power spectrum. The phase spectrum is obtained by np.angle(A).\n",
    "    \n",
    "    y_values= time series data\n",
    "    fs= sampling frequency of the data\n",
    "    \"\"\"\n",
    "    \n",
    "    realfreq=np.fft.rfftfreq(len(y_values),d = 1.0/fs) #returns real valued portion of fft only \n",
    "   \n",
    "    ####fft_values=(np.fft.rfft(y_values,axis=0)) fft\n",
    "    ##fft_values=np.abs((np.fft.rfft(y_values,axis=0))) #realfft #AMPLITUDE SPECTRUM\n",
    "   \n",
    "    fft_values=np.abs((np.fft.rfft(y_values,axis=0)))**2 #POWER SPECTRUM\n",
    "\n",
    "    return realfreq, fft_values "
   ]
  },
  {
   "cell_type": "code",
   "execution_count": 36,
   "metadata": {},
   "outputs": [],
   "source": [
    "def meanfreq(x,y):\n",
    "    \"\"\"mean freq of a spectrum is the sum of the product of the spectrogram intensity\n",
    "       and the frequency, divided by the total sum of the spectrogram intensity\n",
    "       x = the frequency bins\n",
    "       y = the spectrogram intensity\n",
    "    \"\"\"\n",
    "    \n",
    "    fp_product=0\n",
    "    p_sum=0\n",
    "    for i in range(0,len(x)):\n",
    "        fp_product+=(x[i]*y[i])\n",
    "        p_sum+=y[i]\n",
    "    \n",
    "    return (fp_product/p_sum)"
   ]
  },
  {
   "cell_type": "code",
   "execution_count": 37,
   "metadata": {},
   "outputs": [],
   "source": [
    "def medianfreq(y):\n",
    "    \"\"\"median frequency is a frequency defined as half of the total power or TTP\n",
    "       (dividing the total power area into two equal parts.)\n",
    "       x = the frequency bins\n",
    "       y = power spectrum\n",
    "    \"\"\"\n",
    "    m_sum=sum(y)/2\n",
    "    i=0\n",
    "    ystepsum=0\n",
    "    while i < len(y):\n",
    "        \n",
    "        ystepsum+=y[i]\n",
    "        i+=1\n",
    "        if ystepsum> m_sum:\n",
    "            break\n",
    "    \n",
    "        \n",
    "    return float(i)\n",
    "        \n",
    "    "
   ]
  },
  {
   "cell_type": "code",
   "execution_count": 38,
   "metadata": {},
   "outputs": [],
   "source": [
    "def centerfreq(y):\n",
    "    \"\"\"\n",
    "    cf = (𝑓ℎ+ 𝑓𝑙)/2 ,  fl =  lower -3 dB-cut-off frequency, fh =  upper -3 dB-cut-off frequency\n",
    "    3db or (.7079 in amplitude)\n",
    "    \"\"\"\n",
    "    bwl=[]\n",
    "    yarr=np.asarray(y)\n",
    "    maxval=max(yarr)\n",
    "    thres=maxval*.7079\n",
    "    peakfreqs=signal.find_peaks(yarr,prominence=(max_power*.50))\n",
    "    \n",
    "    if len(peakfreqs[0]) ==0:\n",
    "        return 0\n",
    "    else:\n",
    "        for freq in peakfreqs[0]:\n",
    "            if yarr[freq] > thres:\n",
    "                bwl.append(freq)\n",
    "        if len(bwl)==0:\n",
    "            \n",
    "            return 0.0\n",
    "\n",
    "        return (float(bwl[-1]+bwl[0]))/2"
   ]
  },
  {
   "cell_type": "code",
   "execution_count": 39,
   "metadata": {},
   "outputs": [],
   "source": [
    "def bwfreq(y):\n",
    "    \n",
    "    \"\"\"\n",
    "    bw = 3-dB-bandwidth = fh - fl ,  fl = lower -3 dB-cut-off frequency, fh = upper -3 dB-cut-off frequency.\n",
    "    3db or (.7079 in amplitude)\n",
    "    \n",
    "    \"\"\"\n",
    "    bwl=[]\n",
    "    yarr=np.asarray(y)\n",
    "    maxval=max(yarr)\n",
    "    thres=maxval*.7079\n",
    "    peakfreqs=signal.find_peaks(yarr,prominence=(max_power*.50))  ###use lower prominence than ####max_power-(max_power*0.7079)\n",
    "                                                                   ###.7079 in order to capture all relevant peaks \n",
    "    if len(peakfreqs[0]) ==0:\n",
    "        \n",
    "        return 0  ### return 0 because no peaks can be found. most likely corrupt signal data in the case of spa2 data\n",
    "    else:\n",
    "        for freq in peakfreqs[0]:\n",
    "            if yarr[freq] > thres:\n",
    "                bwl.append(freq)\n",
    "        #print(bwl)    \n",
    "        if len(bwl)==0:\n",
    "            \n",
    "            return 0.0  ### return 0 here is redundant\n",
    "        if len(bwl)==1:\n",
    "            #returning 1 as of now is debatable because we could just return the frequency where the peak is \n",
    "            return 1.0 ### if there is only one peak above the threshold return 1 as bw \n",
    "                       ### this is because of the peak widths being all 1 sample (this is unique to this example)\n",
    "        else:          ### if the segment used for fft was longer than 500 samples the bin widths would be larger than 1 sample wide.\n",
    "                       ### This function only works as of now with a data segment length of 500 samples and Fs = 500hz \n",
    "                \n",
    "            return float(bwl[-1]-bwl[0]) ### because peakfreqs returns the indexes from small to large\n",
    "                                         ### you can find the bandwith by taking the difference\n",
    "                                        ### of the first element from the last element"
   ]
  },
  {
   "cell_type": "code",
   "execution_count": 40,
   "metadata": {},
   "outputs": [],
   "source": [
    "def zerocross_v2(y): #from  https://stackoverflow.com/questions/3843017/efficiently-detect-sign-changes-in-python\n",
    "    zero_crossings = np.where(np.diff(np.sign(y)))[0]\n",
    "    return (len(zero_crossings))"
   ]
  },
  {
   "cell_type": "code",
   "execution_count": 41,
   "metadata": {},
   "outputs": [],
   "source": [
    "def mode_freq(y):\n",
    "    \"\"\"to find the mode, find the maximum value of Y, then the freq corresponding to it.\n",
    "    x = the frequency bins\n",
    "    y = power spectrum\n",
    "    \"\"\"\n",
    "    #max_power=max(y)\n",
    "    #max_index= y.index(max_power)\n",
    "    #return float(max_index)\n",
    "    return float(np.argmax(y))"
   ]
  },
  {
   "cell_type": "markdown",
   "metadata": {},
   "source": [
    "### Entropy Features\n",
    "\n",
    "Entropy package link : https://raphaelvallat.com/entropy/build/html/index.html\n",
    "\n",
    "1. Approximate Entropy\n",
    "2. Sample Entropy\n",
    "3. Shannon Entropy\n",
    "4. Spectral Entropy\n",
    "5. Fuzzy Entropy <---- unsure about this one \n"
   ]
  },
  {
   "cell_type": "code",
   "execution_count": null,
   "metadata": {},
   "outputs": [],
   "source": [
    "def ApEn(U, m): #from entropy package\n",
    "    approx_en=app_entropy(U,order=m)\n",
    "    return approx_en"
   ]
  },
  {
   "cell_type": "code",
   "execution_count": null,
   "metadata": {},
   "outputs": [],
   "source": [
    "def SampEn(U,m): #from entropy package\n",
    "    sample_en=sample_entropy(U,order=m)\n",
    "    return sample_en"
   ]
  },
  {
   "cell_type": "code",
   "execution_count": null,
   "metadata": {},
   "outputs": [],
   "source": [
    "def ShannonEn(y): #https://stackoverflow.com/questions/42683287/python-numpy-shannon-entropy-array\n",
    "    \"\"\"y=1-d time series data\"\"\"\n",
    "    proby = y / y.sum()\n",
    "    se = -np.sum(proby*np.log2(y))\n",
    "    \n",
    "    return se"
   ]
  },
  {
   "cell_type": "code",
   "execution_count": null,
   "metadata": {},
   "outputs": [],
   "source": [
    "def spectralEn(y):\n",
    "    \"\"\"y=1-d time series data\"\"\"\n",
    "    fft_values=np.abs((np.fft.rfft(y,axis=0)))**2\n",
    "    psdvals=fft_values/251 # or len(fft_values)\n",
    "    probdens=psdvals/np.sum(psdvals)\n",
    "    return -np.sum(probdens*np.log2(probdens))"
   ]
  },
  {
   "cell_type": "code",
   "execution_count": null,
   "metadata": {},
   "outputs": [],
   "source": [
    "# Calculate Fuzzy Entropy   ### not sure of this one yet\n",
    "def FuzzyEn(U):\n",
    "    \n",
    "    fzmean=np.mean(U)\n",
    "    fzsigma=np.std(U)\n",
    "    gaussMF=np.exp(-((U - fzmean) ** 2) / float(fzsigma) ** 2)\n",
    "    sig_GMF=U * gaussMF\n",
    "    N = len(U)\n",
    "    m = 2\n",
    "    r = np.std(U)*0.2\n",
    "    def _maxdist(x_i, x_j):\n",
    "        result = max([abs(ua - va) for ua, va in zip(x_i, x_j)])\n",
    "        return result\n",
    "\n",
    "    def _phi(m):\n",
    "        x = [[U[j] for j in range(i, i + m - 1, 1)] for i in range(N - m + 1)]\n",
    "#         print('x is ', x)\n",
    "        C = 0\n",
    "        for i in range(len(x)):\n",
    "            for j in range(len(x)):\n",
    "                if i == j:\n",
    "                    continue\n",
    "                C += (_maxdist(x[i], x[j]) <= r)\n",
    "        return C\n",
    "\n",
    "    \n",
    "    return -np.log(_phi(m+1) / _phi(m))"
   ]
  },
  {
   "cell_type": "markdown",
   "metadata": {},
   "source": [
    "### Stationarity Features\n",
    "1. Stationarity Mean\n",
    "2. Srationarity Standard deviation\n",
    "3. MISSING FEATURES: stationarity median, stationarity freqpond, stationarity area, stationarity area ponderada"
   ]
  },
  {
   "cell_type": "code",
   "execution_count": null,
   "metadata": {},
   "outputs": [],
   "source": [
    "def stationarity_mean(y,n):  ### not sure if this is correct / what the split value should be \n",
    "    \"\"\"\n",
    "   Split the signal X into n equal, consecutive subsets 𝑋1, 𝑋2, …, 𝑋𝑛. \n",
    "   Calculate the mean value of the subsets 𝑥 ̂1, 𝑥 ̂2, …, 𝑥 ̂𝑛  \n",
    "   Forming  𝑋𝑚𝑒 = {𝑥 ̂1,𝑥 ̂2,…,𝑥 ̂𝑛}\n",
    "    \n",
    "    Parameters\n",
    "    ----------\n",
    "    y = time series data\n",
    "    n = number of splits \n",
    "    \n",
    "    Returns\n",
    "    -------\n",
    "    standard deviation of 𝑋𝑚𝑒\n",
    "    \"\"\"\n",
    "    yarr=np.asarray(y)\n",
    "    split_data=np.split(yarr,n)\n",
    "    setstd = np.asarray(split_data).mean(axis=1)\n",
    "    \n",
    "    return np.std(setstd)"
   ]
  },
  {
   "cell_type": "code",
   "execution_count": null,
   "metadata": {},
   "outputs": [],
   "source": [
    "def stationarity_std(y,n):   ### not sure if this is correct / what the split value should be \n",
    "    \"\"\"\n",
    "    Split the signal X into n equal, consecutive subsets 𝑋1, 𝑋2, …, 𝑋𝑛.\n",
    "    Calculate the standard deviations of the subsets 𝜎𝑥1,𝜎𝑥2,…,𝜎𝑥𝑛 \n",
    "    Forming 𝑋𝑠𝑑 = {𝜎𝑥1,𝜎𝑥2,…,𝜎𝑥𝑛}.\n",
    " \n",
    "    \n",
    "    Parameters\n",
    "    ----------\n",
    "    y = time series data\n",
    "    n = number of splits \n",
    "    \n",
    "    Returns\n",
    "    -------\n",
    "    standard deviation of 𝑋𝑠𝑑\n",
    "    \"\"\"\n",
    "    yarr=np.asarray(y)\n",
    "    split_data=np.split(yarr,n)\n",
    "    setstd = np.asarray(split_data).std(axis=1)\n",
    "    \n",
    "    return np.std(setstd)"
   ]
  },
  {
   "cell_type": "markdown",
   "metadata": {},
   "source": [
    "### Variability Features\n",
    "1. range\n",
    "2. inter range"
   ]
  },
  {
   "cell_type": "code",
   "execution_count": 45,
   "metadata": {},
   "outputs": [],
   "source": [
    "def rang(data): #from emad \n",
    "    x=np.array(data)\n",
    "    #x=x.astype(np.float)\n",
    "    return max(x)-min(x)  "
   ]
  },
  {
   "cell_type": "code",
   "execution_count": 46,
   "metadata": {},
   "outputs": [],
   "source": [
    "def intrange(data): #from emad \n",
    "    x=np.array(data)\n",
    "    x=x.astype(np.float)\n",
    "    q75, q25 = np.percentile(x,[75, 25])\n",
    "    iqr = q75-q25\n",
    "    return iqr"
   ]
  },
  {
   "cell_type": "markdown",
   "metadata": {},
   "source": [
    "  var and std features can be just applied to numpy arrays or pandas series via built in methods"
   ]
  },
  {
   "cell_type": "markdown",
   "metadata": {},
   "source": [
    "### Linearity Features\n",
    "1. Lag dependent function\n",
    "2. parital lag dependence functions\n",
    "3. both these features have yet to be implemented"
   ]
  },
  {
   "cell_type": "code",
   "execution_count": 43,
   "metadata": {},
   "outputs": [],
   "source": [
    "## lag dependent functions\n",
    "def ldf():\n",
    "    pass"
   ]
  },
  {
   "cell_type": "code",
   "execution_count": 44,
   "metadata": {},
   "outputs": [],
   "source": [
    "## partial lag dependence functions\n",
    "def pldf():\n",
    "    pass\n"
   ]
  },
  {
   "cell_type": "markdown",
   "metadata": {},
   "source": [
    "### Importing a patient for this example\n",
    "\n",
    "doing it manually for this example"
   ]
  },
  {
   "cell_type": "code",
   "execution_count": 6,
   "metadata": {},
   "outputs": [],
   "source": [
    "# just importing a few patients for this example\n",
    "#patient 4, 5, and 6\n",
    "emg04 = pd.read_csv(\"S:/Shared with me/uci_data/02-uci_raw/uci_raw_emg/uci_raw_emg_updated_time/uci_emg_time_updated_p04.csv\",header=0,dtype=np.float64)\n",
    "emg05 = pd.read_csv(\"S:/Shared with me/uci_data/02-uci_raw/uci_raw_emg/uci_raw_emg_updated_time/uci_emg_time_updated_p05.csv\",header=0,dtype=np.float64)\n",
    "emg06 = pd.read_csv(\"S:/Shared with me/uci_data/02-uci_raw/uci_raw_emg/uci_raw_emg_updated_time/uci_emg_time_updated_p06.csv\",header=0,dtype=np.float64)"
   ]
  },
  {
   "cell_type": "code",
   "execution_count": 47,
   "metadata": {},
   "outputs": [],
   "source": [
    "emg04.columns=[\"time\",\"raw_fro\",\"raw_corru\",\"raw_orbi\",\"raw_lev\",\"raw_zyg\",\"raw_trap\",\"filt_fro\",\n",
    "              \"filt_corru\",\"filt_orbi\",\"filt_lev\",\"filt_zyg\",\"filt_trap\"]\n",
    "emg05.columns=[\"time\",\"raw_fro\",\"raw_corru\",\"raw_orbi\",\"raw_lev\",\"raw_zyg\",\"raw_trap\",\"filt_fro\",\n",
    "              \"filt_corru\",\"filt_orbi\",\"filt_lev\",\"filt_zyg\",\"filt_trap\"]\n",
    "emg06.columns=[\"time\",\"raw_fro\",\"raw_corru\",\"raw_orbi\",\"raw_lev\",\"raw_zyg\",\"raw_trap\",\"filt_fro\",\n",
    "              \"filt_corru\",\"filt_orbi\",\"filt_lev\",\"filt_zyg\",\"filt_trap\"]"
   ]
  },
  {
   "cell_type": "code",
   "execution_count": 50,
   "metadata": {},
   "outputs": [],
   "source": [
    "#just taking the filtered signals here \n",
    "filtemg04=emg04.iloc[:,7:].copy()\n",
    "filtemg04.insert(0,\"time\",emg04[\"time\"])\n",
    "\n",
    "#just taking the filtered signals here \n",
    "filtemg05=emg05.iloc[:,7:].copy()\n",
    "filtemg05.insert(0,\"time\",emg05[\"time\"])\n",
    "\n",
    "#just taking the filtered signals here \n",
    "filtemg06=emg06.iloc[:,7:].copy()\n",
    "filtemg06.insert(0,\"time\",emg06[\"time\"])\n",
    "\n",
    "filterdict=dict()\n",
    "filterdict[\"patient04\"]=filtemg04\n",
    "filterdict[\"patient05\"]=filtemg05\n",
    "filterdict[\"patient06\"]=filtemg06"
   ]
  },
  {
   "cell_type": "code",
   "execution_count": 49,
   "metadata": {},
   "outputs": [
    {
     "name": "stdout",
     "output_type": "stream",
     "text": [
      "           time       filt_fro     filt_corru      filt_orbi       filt_lev  \\\n",
      "0  1.530567e+09 -129317.633651 -413659.268023 -247205.847013 -614663.853471   \n",
      "1  1.530567e+09   -8170.077041  142201.068819   50239.813009  270957.809848   \n",
      "2  1.530567e+09   25416.340369  160323.769017   79864.422093  265325.811480   \n",
      "3  1.530567e+09   27695.172153   86391.996709   52706.240558  126186.988981   \n",
      "4  1.530567e+09   47187.151831  108747.213616   72679.393609  147014.661157   \n",
      "\n",
      "        filt_zyg     filt_trap  \n",
      "0 -335385.650011  3.931227e+06  \n",
      "1   98484.907562  1.285816e+06  \n",
      "2  122107.157774 -3.255179e+05  \n",
      "3   71244.613603 -8.817711e+05  \n",
      "4   91786.472654 -1.626217e+06  \n"
     ]
    }
   ],
   "source": [
    "print (filtemg04.head())"
   ]
  },
  {
   "cell_type": "code",
   "execution_count": null,
   "metadata": {},
   "outputs": [],
   "source": [
    "filtemg04.plot(subplots=True, figsize =(6,8))\n"
   ]
  },
  {
   "cell_type": "markdown",
   "metadata": {},
   "source": [
    "### Applying feature functions"
   ]
  },
  {
   "cell_type": "markdown",
   "metadata": {},
   "source": [
    "\n",
    " I did it basically the following way because I only created a few features at a time so I could check them afterwards without having to wait for all the features to be create which could take awhile if you ran all the functions at the same time. "
   ]
  },
  {
   "cell_type": "markdown",
   "metadata": {},
   "source": [
    "### Time domain feature segmentation example"
   ]
  },
  {
   "cell_type": "code",
   "execution_count": null,
   "metadata": {},
   "outputs": [],
   "source": [
    "### Because Fs=500 and we want 1 second long segments for the features we can split\n",
    "### the signal into 500 sample segments in order to capture 1 second long samples\n",
    "\n",
    "S=500 \n",
    "N=len(filtemg04)//S \n",
    "chunks=[filtemg04.iloc[j*S:(j+1)*S,1:7].copy() for j in range(N+1)] #select only emg channels\n",
    "if len(chunks[-1]) != 500: ###delete the last segment because it most likely will be less\n",
    "    del chunks[-1]         ###than 500 samples long"
   ]
  },
  {
   "cell_type": "markdown",
   "metadata": {},
   "source": [
    "### main loop to create whatever time domain feature you want to use"
   ]
  },
  {
   "cell_type": "code",
   "execution_count": 53,
   "metadata": {},
   "outputs": [
    {
     "name": "stdout",
     "output_type": "stream",
     "text": [
      "patient04\n",
      "patient05\n",
      "patient06\n"
     ]
    }
   ],
   "source": [
    "### loop to create features manually by applying a given function to a segment of a signal\n",
    "\n",
    "featuredict=dict()\n",
    "\n",
    "mavlist=[]\n",
    "rmslist=[]\n",
    "\n",
    "\n",
    "#freqbins=list(range(251))\n",
    "FeatKeys=[\"mav\",\"rms\"]\n",
    "for k in filterdict:\n",
    "    print (k)\n",
    "    S=500\n",
    "    N=len(filterdict[k])//S\n",
    "    chunks=[filterdict[k].iloc[j*S:(j+1)*S,1:7].copy() for j in range(N+1)]\n",
    "    if len(chunks[-1]) != 500:\n",
    "        del chunks[-1]\n",
    "    featuredict[k]={key: [] for key in FeatKeys}\n",
    "    for m in range(0,len(chunks)):\n",
    "        mavs=chunks[m].apply(lambda y: mav(y))\n",
    "        rmss=chunks[m].apply(lambda y: rms(y))\n",
    "\n",
    "        mavlist.append(mavs)\n",
    "        rmslist.append(rmss)\n",
    "\n",
    "        \n",
    "    featuredict[k][\"mav\"].append(mavlist)\n",
    "    featuredict[k][\"rms\"].append(rmslist)\n",
    "\n",
    "    #clear lists after each patient\n",
    "    mavlist=[]\n",
    "    rmslist=[]"
   ]
  },
  {
   "cell_type": "code",
   "execution_count": 55,
   "metadata": {},
   "outputs": [
    {
     "name": "stdout",
     "output_type": "stream",
     "text": [
      "patient04\n",
      "patient05\n",
      "patient06\n"
     ]
    }
   ],
   "source": [
    "#combine the created features\n",
    "\n",
    "Features=dict() \n",
    "\n",
    "   \n",
    "for k in featuredict:\n",
    "    print (k)\n",
    "    \n",
    "    rmspd = pd.DataFrame(featuredict[k][\"rms\"][0])\n",
    "    rmspd.columns= [\"rms_fro\",\"rms_cor\",\"rms_orb\",\"rms_lev\",\"rms_zyg\",\"rms_Trap\"]\n",
    "    mavpd = pd.DataFrame(featuredict[k][\"mav\"][0])\n",
    "    mavpd.columns= [\"mav_fro\",\"mav_cor\",\"mav_orb\",\"mav_lev\",\"mav_zyg\",\"mav_Trap\"]\n",
    "    \n",
    "    #either concat to existing features or start with inital features then keep updating it\n",
    "    #Features[k]=pd.concat([myFeats_dict[k],bwf,cntf],axis=1)\n",
    "    \n",
    "    Features[k]=pd.concat([rmspd,mavpd],axis=1)"
   ]
  },
  {
   "cell_type": "code",
   "execution_count": 56,
   "metadata": {},
   "outputs": [
    {
     "name": "stdout",
     "output_type": "stream",
     "text": [
      "       rms_fro       rms_cor       rms_orb       rms_lev       rms_zyg  \\\n",
      "0  9686.833601  28621.487205  16886.991931  43799.909514  23051.287106   \n",
      "1   468.949884    435.037345    502.622074    184.540618    539.976196   \n",
      "2   481.722983    440.294398    598.087823    457.611101    481.184397   \n",
      "3   593.759259    391.443931    588.630930    475.846391    460.969792   \n",
      "4   593.981592    392.788353    503.049847    512.007096    457.941966   \n",
      "\n",
      "        rms_Trap      mav_fro      mav_cor      mav_orb       mav_lev  \\\n",
      "0  326727.936401  3716.767325  7863.141817  4975.148779  11680.847370   \n",
      "1     904.314620   362.465309   337.769876   397.130695     98.406463   \n",
      "2      35.821324   363.986345   346.559845   454.243008    320.419777   \n",
      "3      34.895140   453.280550   311.326754   457.992079    380.698976   \n",
      "4      39.826893   447.222790   311.342715   391.446789    396.288423   \n",
      "\n",
      "       mav_zyg      mav_Trap  \n",
      "0  6801.018649  89790.482890  \n",
      "1   416.271541    431.545806  \n",
      "2   370.668459     28.610190  \n",
      "3   369.162207     27.863247  \n",
      "4   362.480325     30.291763  \n"
     ]
    }
   ],
   "source": [
    "print (Features[\"patient04\"].head())"
   ]
  },
  {
   "cell_type": "markdown",
   "metadata": {},
   "source": [
    "### Frequency Domain segmentation example\n",
    "\n",
    "### IMPORTANT: \n",
    "The way im doing the segmentation will only work if you're using 1 second segments you need to edit this if you decide on a different length"
   ]
  },
  {
   "cell_type": "markdown",
   "metadata": {},
   "source": [
    "### First transform from time to freq domain"
   ]
  },
  {
   "cell_type": "code",
   "execution_count": 57,
   "metadata": {},
   "outputs": [
    {
     "name": "stdout",
     "output_type": "stream",
     "text": [
      "patient04\n",
      "patient05\n",
      "patient06\n"
     ]
    }
   ],
   "source": [
    "fft_dict=dict()\n",
    "fft_list=[]\n",
    "for k in filterdict:\n",
    "    print (k)\n",
    "    S=500\n",
    "    N=len(filterdict[k])//S\n",
    "    chunks=[filterdict[k].iloc[j*S:(j+1)*S,0:6].copy() for j in range(N+1) ]\n",
    "\n",
    "    for m in range(0,len(chunks)):\n",
    "\n",
    "        x=chunks[m].apply(lambda y: np.abs(np.fft.rfft(y))**2)\n",
    "        fft_list.append(x)\n",
    "    fft_dict[k]=pd.concat(fft_list)\n",
    "    fft_dict[k].columns=[\"filt_EMG_fro\",\"filt_EMG_cor\",\"filt_EMG_orb\",\"filt_EMG_lev\",\"filt_EMG_zyg\",\"filt_EMG_Trap\"]\n",
    "    fft_list=[]"
   ]
  },
  {
   "cell_type": "markdown",
   "metadata": {},
   "source": [
    "### Because Fs=500 we can only capture frequencies from 0 to 250 hz (Fs/2)\n",
    "so the segments will be 251 samples long "
   ]
  },
  {
   "cell_type": "code",
   "execution_count": 58,
   "metadata": {},
   "outputs": [
    {
     "name": "stdout",
     "output_type": "stream",
     "text": [
      "patient04\n"
     ]
    },
    {
     "name": "stderr",
     "output_type": "stream",
     "text": [
      "C:\\Users\\imelna\\anaconda\\envs\\emgEnv\\lib\\site-packages\\numpy\\core\\fromnumeric.py:56: FutureWarning: \n",
      "The current behaviour of 'Series.argmax' is deprecated, use 'idxmax'\n",
      "instead.\n",
      "The behavior of 'argmax' will be corrected to return the positional\n",
      "maximum in the future. For now, use 'series.values.argmax' or\n",
      "'np.argmax(np.array(values))' to get the position of the maximum\n",
      "row.\n",
      "  return getattr(obj, method)(*args, **kwds)\n"
     ]
    },
    {
     "name": "stdout",
     "output_type": "stream",
     "text": [
      "patient05\n",
      "patient06\n"
     ]
    }
   ],
   "source": [
    "###loop to create the mean, median, and mode freq features\n",
    "\n",
    "freqdict=dict()\n",
    "\n",
    "mean_list=[]\n",
    "med_list=[]\n",
    "mode_list=[]\n",
    "freqbins=list(range(251))\n",
    "FeatKeys=[\"meanFreq\",\"medianFreq\",\"modeFreq\"]\n",
    "\n",
    "for k in fft_dict:\n",
    "    print (k)\n",
    "    S=251\n",
    "    N=len(fft_dict[k])//S\n",
    "    chunks=[fft_dict[k].iloc[j*S:(j+1)*S,0:6].copy() for j in range(N+1)]\n",
    "    if len(chunks[-1]) != 251:\n",
    "        del chunks[-1]\n",
    "    freqdict[k]={key: [] for key in FeatKeys}\n",
    "    \n",
    "    for m in range(0,len(chunks)):\n",
    "        meanf=chunks[m].apply(lambda y: meanfreq(freqbins,y))\n",
    "        medf=chunks[m].apply(lambda y: medianfreq(y))\n",
    "        modef=chunks[m].apply(lambda y: mode_freq(y))\n",
    "        mean_list.append(meanf)\n",
    "        med_list.append(medf)\n",
    "        mode_list.append(modef)\n",
    "        \n",
    "    freqdict[k][\"meanFreq\"].append(mean_list)\n",
    "    freqdict[k][\"medianFreq\"].append(med_list)\n",
    "    freqdict[k][\"modeFreq\"].append(mode_list)\n",
    "    mean_list=[]\n",
    "    med_list=[]\n",
    "    mode_list=[]\n",
    "    "
   ]
  },
  {
   "cell_type": "code",
   "execution_count": 59,
   "metadata": {},
   "outputs": [
    {
     "name": "stdout",
     "output_type": "stream",
     "text": [
      "patient04\n",
      "patient05\n",
      "patient06\n"
     ]
    }
   ],
   "source": [
    "#loop to combine all features created in this notebook together \n",
    "\n",
    "FeatureDict=dict()\n",
    "\n",
    "   \n",
    "for k in freqdict:\n",
    "    print (k)\n",
    "    \n",
    "    meanf = pd.DataFrame(freqdict[k][\"meanFreq\"][0])\n",
    "    meanf.columns= [\"meanfreq_fro\",\"meanfreq_cor\",\"meanfreq_orb\",\"meanfreq_lev\",\"meanfreq_zyg\",\"meanfreq_Trap\"]\n",
    "    medf = pd.DataFrame(freqdict[k][\"medianFreq\"][0])\n",
    "    medf.columns= [\"medfreq_fro\",\"medfreq_cor\",\"medfreq_orb\",\"medfreq_lev\",\"medfreq_zyg\",\"medfreq_Trap\"]\n",
    "    modef = pd.DataFrame(freqdict[k][\"modeFreq\"][0])\n",
    "    modef.columns= [\"modefreq_fro\",\"modefreq_cor\",\"modefreq_orb\",\"modefreq_lev\",\"modefreq_zyg\",\"modefreq_Trap\"]\n",
    "    \n",
    "    \n",
    "    FeatureDict[k]=pd.concat([Features[k],meanf,medf,modef],axis=1)"
   ]
  },
  {
   "cell_type": "code",
   "execution_count": 69,
   "metadata": {},
   "outputs": [],
   "source": [
    "def print_full(x):\n",
    "    pd.set_option('display.max_rows', len(x))\n",
    "    pd.set_option('display.max_columns', 200)\n",
    "    display(x)\n",
    "    pd.reset_option('display.max_rows')\n",
    "    pd.reset_option('display.max_columns')"
   ]
  },
  {
   "cell_type": "markdown",
   "metadata": {},
   "source": [
    "### All the features from this example combined into one dataframe for each patient. \n",
    "1. Patient 6 shown below"
   ]
  },
  {
   "cell_type": "code",
   "execution_count": 96,
   "metadata": {},
   "outputs": [
    {
     "data": {
      "text/html": [
       "<div>\n",
       "<style scoped>\n",
       "    .dataframe tbody tr th:only-of-type {\n",
       "        vertical-align: middle;\n",
       "    }\n",
       "\n",
       "    .dataframe tbody tr th {\n",
       "        vertical-align: top;\n",
       "    }\n",
       "\n",
       "    .dataframe thead th {\n",
       "        text-align: right;\n",
       "    }\n",
       "</style>\n",
       "<table border=\"1\" class=\"dataframe\">\n",
       "  <thead>\n",
       "    <tr style=\"text-align: right;\">\n",
       "      <th></th>\n",
       "      <th>rms_fro</th>\n",
       "      <th>rms_cor</th>\n",
       "      <th>rms_orb</th>\n",
       "      <th>rms_lev</th>\n",
       "      <th>rms_zyg</th>\n",
       "      <th>rms_Trap</th>\n",
       "      <th>mav_fro</th>\n",
       "      <th>mav_cor</th>\n",
       "      <th>mav_orb</th>\n",
       "      <th>mav_lev</th>\n",
       "      <th>mav_zyg</th>\n",
       "      <th>mav_Trap</th>\n",
       "      <th>meanfreq_fro</th>\n",
       "      <th>meanfreq_cor</th>\n",
       "      <th>meanfreq_orb</th>\n",
       "      <th>meanfreq_lev</th>\n",
       "      <th>meanfreq_zyg</th>\n",
       "      <th>meanfreq_Trap</th>\n",
       "      <th>medfreq_fro</th>\n",
       "      <th>medfreq_cor</th>\n",
       "      <th>medfreq_orb</th>\n",
       "      <th>medfreq_lev</th>\n",
       "      <th>medfreq_zyg</th>\n",
       "      <th>medfreq_Trap</th>\n",
       "      <th>modefreq_fro</th>\n",
       "      <th>modefreq_cor</th>\n",
       "      <th>modefreq_orb</th>\n",
       "      <th>modefreq_lev</th>\n",
       "      <th>modefreq_zyg</th>\n",
       "      <th>modefreq_Trap</th>\n",
       "    </tr>\n",
       "  </thead>\n",
       "  <tbody>\n",
       "    <tr>\n",
       "      <th>0</th>\n",
       "      <td>30231.922157</td>\n",
       "      <td>16233.145696</td>\n",
       "      <td>26622.695285</td>\n",
       "      <td>17237.717077</td>\n",
       "      <td>22982.873082</td>\n",
       "      <td>303104.704971</td>\n",
       "      <td>8608.314422</td>\n",
       "      <td>4738.941173</td>\n",
       "      <td>7646.174237</td>\n",
       "      <td>5159.261472</td>\n",
       "      <td>6666.647789</td>\n",
       "      <td>79899.709726</td>\n",
       "      <td>7.186224e-20</td>\n",
       "      <td>120.396719</td>\n",
       "      <td>89.133421</td>\n",
       "      <td>116.960644</td>\n",
       "      <td>85.952185</td>\n",
       "      <td>110.526284</td>\n",
       "      <td>1.0</td>\n",
       "      <td>115.0</td>\n",
       "      <td>65.0</td>\n",
       "      <td>110.0</td>\n",
       "      <td>57.0</td>\n",
       "      <td>100.0</td>\n",
       "      <td>0.0</td>\n",
       "      <td>28.0</td>\n",
       "      <td>23.0</td>\n",
       "      <td>28.0</td>\n",
       "      <td>21.0</td>\n",
       "      <td>23.0</td>\n",
       "    </tr>\n",
       "    <tr>\n",
       "      <th>1</th>\n",
       "      <td>519.943004</td>\n",
       "      <td>506.008048</td>\n",
       "      <td>528.850090</td>\n",
       "      <td>900.483116</td>\n",
       "      <td>579.147758</td>\n",
       "      <td>1123.391001</td>\n",
       "      <td>413.261919</td>\n",
       "      <td>408.084710</td>\n",
       "      <td>424.781314</td>\n",
       "      <td>570.621717</td>\n",
       "      <td>467.656494</td>\n",
       "      <td>527.348399</td>\n",
       "      <td>7.186224e-20</td>\n",
       "      <td>99.058902</td>\n",
       "      <td>95.988730</td>\n",
       "      <td>100.618780</td>\n",
       "      <td>45.761860</td>\n",
       "      <td>100.008334</td>\n",
       "      <td>1.0</td>\n",
       "      <td>87.0</td>\n",
       "      <td>86.0</td>\n",
       "      <td>89.0</td>\n",
       "      <td>26.0</td>\n",
       "      <td>89.0</td>\n",
       "      <td>0.0</td>\n",
       "      <td>55.0</td>\n",
       "      <td>55.0</td>\n",
       "      <td>55.0</td>\n",
       "      <td>19.0</td>\n",
       "      <td>55.0</td>\n",
       "    </tr>\n",
       "    <tr>\n",
       "      <th>2</th>\n",
       "      <td>546.071709</td>\n",
       "      <td>532.078133</td>\n",
       "      <td>613.334635</td>\n",
       "      <td>1123.276285</td>\n",
       "      <td>608.782446</td>\n",
       "      <td>43.439094</td>\n",
       "      <td>428.333126</td>\n",
       "      <td>419.639431</td>\n",
       "      <td>473.428397</td>\n",
       "      <td>715.266561</td>\n",
       "      <td>479.929843</td>\n",
       "      <td>32.941964</td>\n",
       "      <td>7.186225e-20</td>\n",
       "      <td>90.404921</td>\n",
       "      <td>92.148296</td>\n",
       "      <td>92.530859</td>\n",
       "      <td>38.060851</td>\n",
       "      <td>93.734760</td>\n",
       "      <td>1.0</td>\n",
       "      <td>79.0</td>\n",
       "      <td>83.0</td>\n",
       "      <td>88.0</td>\n",
       "      <td>24.0</td>\n",
       "      <td>86.0</td>\n",
       "      <td>0.0</td>\n",
       "      <td>69.0</td>\n",
       "      <td>37.0</td>\n",
       "      <td>29.0</td>\n",
       "      <td>20.0</td>\n",
       "      <td>29.0</td>\n",
       "    </tr>\n",
       "    <tr>\n",
       "      <th>3</th>\n",
       "      <td>621.500235</td>\n",
       "      <td>611.095080</td>\n",
       "      <td>620.809662</td>\n",
       "      <td>884.734708</td>\n",
       "      <td>652.197951</td>\n",
       "      <td>42.153099</td>\n",
       "      <td>492.017540</td>\n",
       "      <td>482.730354</td>\n",
       "      <td>494.578517</td>\n",
       "      <td>601.915435</td>\n",
       "      <td>517.340109</td>\n",
       "      <td>33.467811</td>\n",
       "      <td>7.186223e-20</td>\n",
       "      <td>87.256822</td>\n",
       "      <td>86.988476</td>\n",
       "      <td>88.047011</td>\n",
       "      <td>51.428192</td>\n",
       "      <td>89.233778</td>\n",
       "      <td>1.0</td>\n",
       "      <td>76.0</td>\n",
       "      <td>76.0</td>\n",
       "      <td>76.0</td>\n",
       "      <td>28.0</td>\n",
       "      <td>77.0</td>\n",
       "      <td>0.0</td>\n",
       "      <td>47.0</td>\n",
       "      <td>47.0</td>\n",
       "      <td>47.0</td>\n",
       "      <td>19.0</td>\n",
       "      <td>36.0</td>\n",
       "    </tr>\n",
       "    <tr>\n",
       "      <th>4</th>\n",
       "      <td>473.184783</td>\n",
       "      <td>468.731287</td>\n",
       "      <td>476.498079</td>\n",
       "      <td>845.671935</td>\n",
       "      <td>534.939217</td>\n",
       "      <td>35.292960</td>\n",
       "      <td>375.447216</td>\n",
       "      <td>372.823925</td>\n",
       "      <td>377.524871</td>\n",
       "      <td>531.356795</td>\n",
       "      <td>422.794172</td>\n",
       "      <td>27.921113</td>\n",
       "      <td>7.186223e-20</td>\n",
       "      <td>94.940269</td>\n",
       "      <td>94.691694</td>\n",
       "      <td>94.493315</td>\n",
       "      <td>47.150020</td>\n",
       "      <td>94.806233</td>\n",
       "      <td>1.0</td>\n",
       "      <td>84.0</td>\n",
       "      <td>84.0</td>\n",
       "      <td>83.0</td>\n",
       "      <td>26.0</td>\n",
       "      <td>83.0</td>\n",
       "      <td>0.0</td>\n",
       "      <td>69.0</td>\n",
       "      <td>34.0</td>\n",
       "      <td>45.0</td>\n",
       "      <td>25.0</td>\n",
       "      <td>70.0</td>\n",
       "    </tr>\n",
       "    <tr>\n",
       "      <th>5</th>\n",
       "      <td>525.886974</td>\n",
       "      <td>517.305667</td>\n",
       "      <td>525.045761</td>\n",
       "      <td>1200.629965</td>\n",
       "      <td>563.900738</td>\n",
       "      <td>36.539937</td>\n",
       "      <td>421.334694</td>\n",
       "      <td>411.412324</td>\n",
       "      <td>419.920031</td>\n",
       "      <td>753.172838</td>\n",
       "      <td>455.641722</td>\n",
       "      <td>29.592777</td>\n",
       "      <td>7.186224e-20</td>\n",
       "      <td>89.760080</td>\n",
       "      <td>89.461877</td>\n",
       "      <td>92.111168</td>\n",
       "      <td>36.329872</td>\n",
       "      <td>96.906137</td>\n",
       "      <td>1.0</td>\n",
       "      <td>80.0</td>\n",
       "      <td>80.0</td>\n",
       "      <td>80.0</td>\n",
       "      <td>25.0</td>\n",
       "      <td>87.0</td>\n",
       "      <td>0.0</td>\n",
       "      <td>29.0</td>\n",
       "      <td>29.0</td>\n",
       "      <td>66.0</td>\n",
       "      <td>20.0</td>\n",
       "      <td>66.0</td>\n",
       "    </tr>\n",
       "    <tr>\n",
       "      <th>6</th>\n",
       "      <td>463.428774</td>\n",
       "      <td>464.066034</td>\n",
       "      <td>496.280667</td>\n",
       "      <td>849.001292</td>\n",
       "      <td>520.941419</td>\n",
       "      <td>34.269908</td>\n",
       "      <td>368.682671</td>\n",
       "      <td>368.488878</td>\n",
       "      <td>393.556463</td>\n",
       "      <td>524.079649</td>\n",
       "      <td>411.560282</td>\n",
       "      <td>27.202737</td>\n",
       "      <td>7.186224e-20</td>\n",
       "      <td>88.914406</td>\n",
       "      <td>88.464284</td>\n",
       "      <td>93.798983</td>\n",
       "      <td>43.720552</td>\n",
       "      <td>96.953709</td>\n",
       "      <td>1.0</td>\n",
       "      <td>79.0</td>\n",
       "      <td>79.0</td>\n",
       "      <td>84.0</td>\n",
       "      <td>26.0</td>\n",
       "      <td>89.0</td>\n",
       "      <td>0.0</td>\n",
       "      <td>39.0</td>\n",
       "      <td>89.0</td>\n",
       "      <td>39.0</td>\n",
       "      <td>21.0</td>\n",
       "      <td>89.0</td>\n",
       "    </tr>\n",
       "    <tr>\n",
       "      <th>7</th>\n",
       "      <td>514.792888</td>\n",
       "      <td>516.631532</td>\n",
       "      <td>714.673308</td>\n",
       "      <td>922.070771</td>\n",
       "      <td>592.162859</td>\n",
       "      <td>39.102130</td>\n",
       "      <td>417.766901</td>\n",
       "      <td>420.649945</td>\n",
       "      <td>568.927706</td>\n",
       "      <td>583.081954</td>\n",
       "      <td>473.346612</td>\n",
       "      <td>31.443187</td>\n",
       "      <td>7.186226e-20</td>\n",
       "      <td>89.152057</td>\n",
       "      <td>88.595659</td>\n",
       "      <td>91.681819</td>\n",
       "      <td>43.905039</td>\n",
       "      <td>89.977828</td>\n",
       "      <td>1.0</td>\n",
       "      <td>77.0</td>\n",
       "      <td>77.0</td>\n",
       "      <td>79.0</td>\n",
       "      <td>25.0</td>\n",
       "      <td>79.0</td>\n",
       "      <td>0.0</td>\n",
       "      <td>71.0</td>\n",
       "      <td>71.0</td>\n",
       "      <td>71.0</td>\n",
       "      <td>20.0</td>\n",
       "      <td>41.0</td>\n",
       "    </tr>\n",
       "    <tr>\n",
       "      <th>8</th>\n",
       "      <td>508.658922</td>\n",
       "      <td>506.602233</td>\n",
       "      <td>712.617506</td>\n",
       "      <td>1174.887501</td>\n",
       "      <td>557.190944</td>\n",
       "      <td>38.787332</td>\n",
       "      <td>408.642228</td>\n",
       "      <td>408.180415</td>\n",
       "      <td>576.636434</td>\n",
       "      <td>738.484604</td>\n",
       "      <td>446.127231</td>\n",
       "      <td>30.789872</td>\n",
       "      <td>7.186224e-20</td>\n",
       "      <td>88.068273</td>\n",
       "      <td>87.298290</td>\n",
       "      <td>89.619845</td>\n",
       "      <td>34.907116</td>\n",
       "      <td>91.916157</td>\n",
       "      <td>1.0</td>\n",
       "      <td>80.0</td>\n",
       "      <td>79.0</td>\n",
       "      <td>83.0</td>\n",
       "      <td>24.0</td>\n",
       "      <td>83.0</td>\n",
       "      <td>0.0</td>\n",
       "      <td>77.0</td>\n",
       "      <td>77.0</td>\n",
       "      <td>38.0</td>\n",
       "      <td>20.0</td>\n",
       "      <td>77.0</td>\n",
       "    </tr>\n",
       "    <tr>\n",
       "      <th>9</th>\n",
       "      <td>504.092555</td>\n",
       "      <td>504.270930</td>\n",
       "      <td>561.370344</td>\n",
       "      <td>933.506806</td>\n",
       "      <td>550.959067</td>\n",
       "      <td>35.092539</td>\n",
       "      <td>403.422856</td>\n",
       "      <td>400.792110</td>\n",
       "      <td>450.267231</td>\n",
       "      <td>576.080481</td>\n",
       "      <td>436.365202</td>\n",
       "      <td>27.945669</td>\n",
       "      <td>7.186225e-20</td>\n",
       "      <td>85.408986</td>\n",
       "      <td>84.685197</td>\n",
       "      <td>91.762461</td>\n",
       "      <td>41.615818</td>\n",
       "      <td>90.420354</td>\n",
       "      <td>1.0</td>\n",
       "      <td>73.0</td>\n",
       "      <td>72.0</td>\n",
       "      <td>89.0</td>\n",
       "      <td>26.0</td>\n",
       "      <td>80.0</td>\n",
       "      <td>0.0</td>\n",
       "      <td>56.0</td>\n",
       "      <td>56.0</td>\n",
       "      <td>38.0</td>\n",
       "      <td>23.0</td>\n",
       "      <td>64.0</td>\n",
       "    </tr>\n",
       "  </tbody>\n",
       "</table>\n",
       "</div>"
      ],
      "text/plain": [
       "        rms_fro       rms_cor       rms_orb       rms_lev       rms_zyg  \\\n",
       "0  30231.922157  16233.145696  26622.695285  17237.717077  22982.873082   \n",
       "1    519.943004    506.008048    528.850090    900.483116    579.147758   \n",
       "2    546.071709    532.078133    613.334635   1123.276285    608.782446   \n",
       "3    621.500235    611.095080    620.809662    884.734708    652.197951   \n",
       "4    473.184783    468.731287    476.498079    845.671935    534.939217   \n",
       "5    525.886974    517.305667    525.045761   1200.629965    563.900738   \n",
       "6    463.428774    464.066034    496.280667    849.001292    520.941419   \n",
       "7    514.792888    516.631532    714.673308    922.070771    592.162859   \n",
       "8    508.658922    506.602233    712.617506   1174.887501    557.190944   \n",
       "9    504.092555    504.270930    561.370344    933.506806    550.959067   \n",
       "\n",
       "        rms_Trap      mav_fro      mav_cor      mav_orb      mav_lev  \\\n",
       "0  303104.704971  8608.314422  4738.941173  7646.174237  5159.261472   \n",
       "1    1123.391001   413.261919   408.084710   424.781314   570.621717   \n",
       "2      43.439094   428.333126   419.639431   473.428397   715.266561   \n",
       "3      42.153099   492.017540   482.730354   494.578517   601.915435   \n",
       "4      35.292960   375.447216   372.823925   377.524871   531.356795   \n",
       "5      36.539937   421.334694   411.412324   419.920031   753.172838   \n",
       "6      34.269908   368.682671   368.488878   393.556463   524.079649   \n",
       "7      39.102130   417.766901   420.649945   568.927706   583.081954   \n",
       "8      38.787332   408.642228   408.180415   576.636434   738.484604   \n",
       "9      35.092539   403.422856   400.792110   450.267231   576.080481   \n",
       "\n",
       "       mav_zyg      mav_Trap  meanfreq_fro  meanfreq_cor  meanfreq_orb  \\\n",
       "0  6666.647789  79899.709726  7.186224e-20    120.396719     89.133421   \n",
       "1   467.656494    527.348399  7.186224e-20     99.058902     95.988730   \n",
       "2   479.929843     32.941964  7.186225e-20     90.404921     92.148296   \n",
       "3   517.340109     33.467811  7.186223e-20     87.256822     86.988476   \n",
       "4   422.794172     27.921113  7.186223e-20     94.940269     94.691694   \n",
       "5   455.641722     29.592777  7.186224e-20     89.760080     89.461877   \n",
       "6   411.560282     27.202737  7.186224e-20     88.914406     88.464284   \n",
       "7   473.346612     31.443187  7.186226e-20     89.152057     88.595659   \n",
       "8   446.127231     30.789872  7.186224e-20     88.068273     87.298290   \n",
       "9   436.365202     27.945669  7.186225e-20     85.408986     84.685197   \n",
       "\n",
       "   meanfreq_lev  meanfreq_zyg  meanfreq_Trap  medfreq_fro  medfreq_cor  \\\n",
       "0    116.960644     85.952185     110.526284          1.0        115.0   \n",
       "1    100.618780     45.761860     100.008334          1.0         87.0   \n",
       "2     92.530859     38.060851      93.734760          1.0         79.0   \n",
       "3     88.047011     51.428192      89.233778          1.0         76.0   \n",
       "4     94.493315     47.150020      94.806233          1.0         84.0   \n",
       "5     92.111168     36.329872      96.906137          1.0         80.0   \n",
       "6     93.798983     43.720552      96.953709          1.0         79.0   \n",
       "7     91.681819     43.905039      89.977828          1.0         77.0   \n",
       "8     89.619845     34.907116      91.916157          1.0         80.0   \n",
       "9     91.762461     41.615818      90.420354          1.0         73.0   \n",
       "\n",
       "   medfreq_orb  medfreq_lev  medfreq_zyg  medfreq_Trap  modefreq_fro  \\\n",
       "0         65.0        110.0         57.0         100.0           0.0   \n",
       "1         86.0         89.0         26.0          89.0           0.0   \n",
       "2         83.0         88.0         24.0          86.0           0.0   \n",
       "3         76.0         76.0         28.0          77.0           0.0   \n",
       "4         84.0         83.0         26.0          83.0           0.0   \n",
       "5         80.0         80.0         25.0          87.0           0.0   \n",
       "6         79.0         84.0         26.0          89.0           0.0   \n",
       "7         77.0         79.0         25.0          79.0           0.0   \n",
       "8         79.0         83.0         24.0          83.0           0.0   \n",
       "9         72.0         89.0         26.0          80.0           0.0   \n",
       "\n",
       "   modefreq_cor  modefreq_orb  modefreq_lev  modefreq_zyg  modefreq_Trap  \n",
       "0          28.0          23.0          28.0          21.0           23.0  \n",
       "1          55.0          55.0          55.0          19.0           55.0  \n",
       "2          69.0          37.0          29.0          20.0           29.0  \n",
       "3          47.0          47.0          47.0          19.0           36.0  \n",
       "4          69.0          34.0          45.0          25.0           70.0  \n",
       "5          29.0          29.0          66.0          20.0           66.0  \n",
       "6          39.0          89.0          39.0          21.0           89.0  \n",
       "7          71.0          71.0          71.0          20.0           41.0  \n",
       "8          77.0          77.0          38.0          20.0           77.0  \n",
       "9          56.0          56.0          38.0          23.0           64.0  "
      ]
     },
     "metadata": {},
     "output_type": "display_data"
    }
   ],
   "source": [
    "print_full(FeatureDict[\"patient06\"].head(10))"
   ]
  },
  {
   "cell_type": "markdown",
   "metadata": {},
   "source": [
    "print_full(FeatureDict[\"patient05\"].head(10))"
   ]
  },
  {
   "cell_type": "markdown",
   "metadata": {},
   "source": [
    "### Small observation that i just noticed for the frontalis muscle:\n",
    "\n",
    "I think there might have been a mistake when filtering the frontalis muscle in the UCI data. \n",
    "When you plot the frequency domain of a segment you see a massive peak at 0hz.\n",
    "I see it for all three patients 4,5, and 6 that I made this example for.\n",
    "\n",
    "I don't have time right now to look into it further but I tihkn the problem could be\n",
    "because when filtering the signal the mean of the signal wasn't subracted from the signal itself. I'm not 100% sure though. \n",
    "\n",
    "I made two plots from two different muscles at the plotted from the same time segment to show the difference below"
   ]
  },
  {
   "cell_type": "code",
   "execution_count": 99,
   "metadata": {},
   "outputs": [],
   "source": [
    "k=\"patient05\"\n",
    "freqbins=list(range(251))\n",
    "S=251\n",
    "N=len(fft_dict[k])//S\n",
    "chunks=[fft_dict[k].iloc[j*S:(j+1)*S,0:6].copy() for j in range(N+1)]\n",
    "if len(chunks[-1]) != 251:\n",
    "    del chunks[-1]"
   ]
  },
  {
   "cell_type": "code",
   "execution_count": 100,
   "metadata": {},
   "outputs": [
    {
     "name": "stdout",
     "output_type": "stream",
     "text": [
      "7.186258637044989e-20\n"
     ]
    }
   ],
   "source": [
    "yfro=chunks[266][\"filt_EMG_fro\"] # selected a random segment\n",
    "xfrotest=meanfreq(freqbins,yfro)\n",
    "\n",
    "print (xfrotest)"
   ]
  },
  {
   "cell_type": "code",
   "execution_count": 101,
   "metadata": {},
   "outputs": [
    {
     "name": "stdout",
     "output_type": "stream",
     "text": [
      "[]\n"
     ]
    },
    {
     "data": {
      "image/png": "[encoded data removed]",
      "text/plain": [
       "<Figure size 432x288 with 1 Axes>"
      ]
     },
     "metadata": {
      "needs_background": "light"
     },
     "output_type": "display_data"
    }
   ],
   "source": [
    "max_power=max(yfro)\n",
    "peaks, _=signal.find_peaks(yfro,prominence=(max_power*0.50)) #max_power-(max_power*0.7079)\n",
    "print (peaks)\n",
    "\n",
    "plt.plot(yfro[:len(yfro)],linestyle='-', color='blue')\n",
    "plt.plot(peaks,yfro[peaks],\"x\",color='red')\n",
    "#plt.plot(range(230,251), chunks[239][\"filt_EMG_lev\"][230:251], linestyle='-', color='blue')\n",
    "plt.xlabel('Frequency [Hz]', fontsize=16) #[502:753]\n",
    "plt.ylabel('Amplitude', fontsize=16)\n",
    "plt.title(\"Frequency domain of my filtered signal frontalis\", fontsize=16)\n",
    "plt.show()\n"
   ]
  },
  {
   "cell_type": "code",
   "execution_count": 102,
   "metadata": {},
   "outputs": [
    {
     "name": "stdout",
     "output_type": "stream",
     "text": [
      "77.21661272296413\n"
     ]
    }
   ],
   "source": [
    "ycor=chunks[266][\"filt_EMG_cor\"] # selected a random segment\n",
    "xcortest=meanfreq(freqbins,ycor)\n",
    "\n",
    "print (xcortest)"
   ]
  },
  {
   "cell_type": "code",
   "execution_count": 103,
   "metadata": {},
   "outputs": [
    {
     "name": "stdout",
     "output_type": "stream",
     "text": [
      "[ 16  21  29  49  55  74  91 115]\n"
     ]
    },
    {
     "data": {
      "image/png": "[encoded data removed]",
      "text/plain": [
       "<Figure size 432x288 with 1 Axes>"
      ]
     },
     "metadata": {
      "needs_background": "light"
     },
     "output_type": "display_data"
    }
   ],
   "source": [
    "max_power=max(ycor)\n",
    "peaks, _=signal.find_peaks(ycor,prominence=(max_power*0.50)) #max_power-(max_power*0.7079)\n",
    "print (peaks)\n",
    "\n",
    "plt.plot(ycor[:len(ycor)],linestyle='-', color='blue')\n",
    "plt.plot(peaks,ycor[peaks],\"x\",color='red')\n",
    "#plt.plot(range(230,251), chunks[239][\"filt_EMG_lev\"][230:251], linestyle='-', color='blue')\n",
    "plt.xlabel('Frequency [Hz]', fontsize=16) #[502:753]\n",
    "plt.ylabel('Amplitude', fontsize=16)\n",
    "plt.title(\"Frequency domain of my filtered signal corrugator supercilii\", fontsize=16)\n",
    "plt.show()\n"
   ]
  },
  {
   "cell_type": "markdown",
   "metadata": {},
   "source": [
    "Narrow window ===>good time resolution, poor frequency resolution. \n",
    "Wide window ===>good frequency resolution, poor time resolution. "
   ]
  }
 ],
 "metadata": {
  "kernelspec": {
   "display_name": "Python 3",
   "language": "python",
   "name": "python3"
  },
  "language_info": {
   "codemirror_mode": {
    "name": "ipython",
    "version": 3
   },
   "file_extension": ".py",
   "mimetype": "text/x-python",
   "name": "python",
   "nbconvert_exporter": "python",
   "pygments_lexer": "ipython3",
   "version": "3.7.3"
  },
  "toc": {
   "base_numbering": 1,
   "nav_menu": {},
   "number_sections": true,
   "sideBar": true,
   "skip_h1_title": false,
   "title_cell": "Table of Contents",
   "title_sidebar": "Contents",
   "toc_cell": false,
   "toc_position": {},
   "toc_section_display": true,
   "toc_window_display": false
  },
  "varInspector": {
   "cols": {
    "lenName": 16,
    "lenType": 16,
    "lenVar": 40
   },
   "kernels_config": {
    "python": {
     "delete_cmd_postfix": "",
     "delete_cmd_prefix": "del ",
     "library": "var_list.py",
     "varRefreshCmd": "print(var_dic_list())"
    },
    "r": {
     "delete_cmd_postfix": ") ",
     "delete_cmd_prefix": "rm(",
     "library": "var_list.r",
     "varRefreshCmd": "cat(var_dic_list()) "
    }
   },
   "types_to_exclude": [
    "module",
    "function",
    "builtin_function_or_method",
    "instance",
    "_Feature"
   ],
   "window_display": false
  }
 },
 "nbformat": 4,
 "nbformat_minor": 2
}
